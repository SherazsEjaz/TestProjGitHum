{
  "nbformat": 4,
  "nbformat_minor": 0,
  "metadata": {
    "colab": {
      "name": "Untitled6.ipynb",
      "provenance": [],
      "collapsed_sections": [],
      "authorship_tag": "ABX9TyO81bCpM/LiVO8if04P0qhL",
      "include_colab_link": true
    },
    "kernelspec": {
      "name": "python3",
      "display_name": "Python 3"
    },
    "language_info": {
      "name": "python"
    }
  },
  "cells": [
    {
      "cell_type": "markdown",
      "metadata": {
        "id": "view-in-github",
        "colab_type": "text"
      },
      "source": [
        "<a href=\"https://colab.research.google.com/github/SherazsEjaz/TestProjGitHum/blob/master/Untitled6.ipynb\" target=\"_parent\"><img src=\"https://colab.research.google.com/assets/colab-badge.svg\" alt=\"Open In Colab\"/></a>"
      ]
    },
    {
      "cell_type": "code",
      "source": [
        "!pip install mglearn"
      ],
      "metadata": {
        "colab": {
          "base_uri": "https://localhost:8080/"
        },
        "id": "T6vxO28hlIoC",
        "outputId": "613c0330-1abb-42a2-9c59-63fbafb6e7b3"
      },
      "execution_count": 2,
      "outputs": [
        {
          "output_type": "stream",
          "name": "stdout",
          "text": [
            "Collecting mglearn\n",
            "  Downloading mglearn-0.1.9.tar.gz (540 kB)\n",
            "\u001b[?25l\r\u001b[K     |▋                               | 10 kB 19.3 MB/s eta 0:00:01\r\u001b[K     |█▏                              | 20 kB 17.0 MB/s eta 0:00:01\r\u001b[K     |█▉                              | 30 kB 10.2 MB/s eta 0:00:01\r\u001b[K     |██▍                             | 40 kB 4.0 MB/s eta 0:00:01\r\u001b[K     |███                             | 51 kB 3.9 MB/s eta 0:00:01\r\u001b[K     |███▋                            | 61 kB 4.6 MB/s eta 0:00:01\r\u001b[K     |████▎                           | 71 kB 4.8 MB/s eta 0:00:01\r\u001b[K     |████▉                           | 81 kB 5.0 MB/s eta 0:00:01\r\u001b[K     |█████▌                          | 92 kB 5.5 MB/s eta 0:00:01\r\u001b[K     |██████                          | 102 kB 4.5 MB/s eta 0:00:01\r\u001b[K     |██████▊                         | 112 kB 4.5 MB/s eta 0:00:01\r\u001b[K     |███████▎                        | 122 kB 4.5 MB/s eta 0:00:01\r\u001b[K     |███████▉                        | 133 kB 4.5 MB/s eta 0:00:01\r\u001b[K     |████████▌                       | 143 kB 4.5 MB/s eta 0:00:01\r\u001b[K     |█████████                       | 153 kB 4.5 MB/s eta 0:00:01\r\u001b[K     |█████████▊                      | 163 kB 4.5 MB/s eta 0:00:01\r\u001b[K     |██████████▎                     | 174 kB 4.5 MB/s eta 0:00:01\r\u001b[K     |███████████                     | 184 kB 4.5 MB/s eta 0:00:01\r\u001b[K     |███████████▌                    | 194 kB 4.5 MB/s eta 0:00:01\r\u001b[K     |████████████▏                   | 204 kB 4.5 MB/s eta 0:00:01\r\u001b[K     |████████████▊                   | 215 kB 4.5 MB/s eta 0:00:01\r\u001b[K     |█████████████▍                  | 225 kB 4.5 MB/s eta 0:00:01\r\u001b[K     |██████████████                  | 235 kB 4.5 MB/s eta 0:00:01\r\u001b[K     |██████████████▋                 | 245 kB 4.5 MB/s eta 0:00:01\r\u001b[K     |███████████████▏                | 256 kB 4.5 MB/s eta 0:00:01\r\u001b[K     |███████████████▊                | 266 kB 4.5 MB/s eta 0:00:01\r\u001b[K     |████████████████▍               | 276 kB 4.5 MB/s eta 0:00:01\r\u001b[K     |█████████████████               | 286 kB 4.5 MB/s eta 0:00:01\r\u001b[K     |█████████████████▋              | 296 kB 4.5 MB/s eta 0:00:01\r\u001b[K     |██████████████████▏             | 307 kB 4.5 MB/s eta 0:00:01\r\u001b[K     |██████████████████▉             | 317 kB 4.5 MB/s eta 0:00:01\r\u001b[K     |███████████████████▍            | 327 kB 4.5 MB/s eta 0:00:01\r\u001b[K     |████████████████████            | 337 kB 4.5 MB/s eta 0:00:01\r\u001b[K     |████████████████████▋           | 348 kB 4.5 MB/s eta 0:00:01\r\u001b[K     |█████████████████████▎          | 358 kB 4.5 MB/s eta 0:00:01\r\u001b[K     |█████████████████████▉          | 368 kB 4.5 MB/s eta 0:00:01\r\u001b[K     |██████████████████████▌         | 378 kB 4.5 MB/s eta 0:00:01\r\u001b[K     |███████████████████████         | 389 kB 4.5 MB/s eta 0:00:01\r\u001b[K     |███████████████████████▋        | 399 kB 4.5 MB/s eta 0:00:01\r\u001b[K     |████████████████████████▎       | 409 kB 4.5 MB/s eta 0:00:01\r\u001b[K     |████████████████████████▉       | 419 kB 4.5 MB/s eta 0:00:01\r\u001b[K     |█████████████████████████▌      | 430 kB 4.5 MB/s eta 0:00:01\r\u001b[K     |██████████████████████████      | 440 kB 4.5 MB/s eta 0:00:01\r\u001b[K     |██████████████████████████▊     | 450 kB 4.5 MB/s eta 0:00:01\r\u001b[K     |███████████████████████████▎    | 460 kB 4.5 MB/s eta 0:00:01\r\u001b[K     |████████████████████████████    | 471 kB 4.5 MB/s eta 0:00:01\r\u001b[K     |████████████████████████████▌   | 481 kB 4.5 MB/s eta 0:00:01\r\u001b[K     |█████████████████████████████▏  | 491 kB 4.5 MB/s eta 0:00:01\r\u001b[K     |█████████████████████████████▊  | 501 kB 4.5 MB/s eta 0:00:01\r\u001b[K     |██████████████████████████████▍ | 512 kB 4.5 MB/s eta 0:00:01\r\u001b[K     |███████████████████████████████ | 522 kB 4.5 MB/s eta 0:00:01\r\u001b[K     |███████████████████████████████▌| 532 kB 4.5 MB/s eta 0:00:01\r\u001b[K     |████████████████████████████████| 540 kB 4.5 MB/s \n",
            "\u001b[?25hRequirement already satisfied: numpy in /usr/local/lib/python3.7/dist-packages (from mglearn) (1.21.5)\n",
            "Requirement already satisfied: matplotlib in /usr/local/lib/python3.7/dist-packages (from mglearn) (3.2.2)\n",
            "Requirement already satisfied: scikit-learn in /usr/local/lib/python3.7/dist-packages (from mglearn) (1.0.2)\n",
            "Requirement already satisfied: pandas in /usr/local/lib/python3.7/dist-packages (from mglearn) (1.3.5)\n",
            "Requirement already satisfied: pillow in /usr/local/lib/python3.7/dist-packages (from mglearn) (7.1.2)\n",
            "Requirement already satisfied: cycler in /usr/local/lib/python3.7/dist-packages (from mglearn) (0.11.0)\n",
            "Requirement already satisfied: imageio in /usr/local/lib/python3.7/dist-packages (from mglearn) (2.4.1)\n",
            "Requirement already satisfied: joblib in /usr/local/lib/python3.7/dist-packages (from mglearn) (1.1.0)\n",
            "Requirement already satisfied: python-dateutil>=2.1 in /usr/local/lib/python3.7/dist-packages (from matplotlib->mglearn) (2.8.2)\n",
            "Requirement already satisfied: pyparsing!=2.0.4,!=2.1.2,!=2.1.6,>=2.0.1 in /usr/local/lib/python3.7/dist-packages (from matplotlib->mglearn) (3.0.7)\n",
            "Requirement already satisfied: kiwisolver>=1.0.1 in /usr/local/lib/python3.7/dist-packages (from matplotlib->mglearn) (1.3.2)\n",
            "Requirement already satisfied: six>=1.5 in /usr/local/lib/python3.7/dist-packages (from python-dateutil>=2.1->matplotlib->mglearn) (1.15.0)\n",
            "Requirement already satisfied: pytz>=2017.3 in /usr/local/lib/python3.7/dist-packages (from pandas->mglearn) (2018.9)\n",
            "Requirement already satisfied: threadpoolctl>=2.0.0 in /usr/local/lib/python3.7/dist-packages (from scikit-learn->mglearn) (3.1.0)\n",
            "Requirement already satisfied: scipy>=1.1.0 in /usr/local/lib/python3.7/dist-packages (from scikit-learn->mglearn) (1.4.1)\n",
            "Building wheels for collected packages: mglearn\n",
            "  Building wheel for mglearn (setup.py) ... \u001b[?25l\u001b[?25hdone\n",
            "  Created wheel for mglearn: filename=mglearn-0.1.9-py2.py3-none-any.whl size=582639 sha256=2e508a9063abfb90b757c1047a645f1f1283c20e417347f57c4bd4b7ba5f035a\n",
            "  Stored in directory: /root/.cache/pip/wheels/f1/17/e1/1720d6dcd70187b6b6c3750cb3508798f2b1d57c9d3214b08b\n",
            "Successfully built mglearn\n",
            "Installing collected packages: mglearn\n",
            "Successfully installed mglearn-0.1.9\n"
          ]
        }
      ]
    },
    {
      "cell_type": "code",
      "source": [
        "import mglearn\n",
        "from sklearn.model_selection import train_test_split\n",
        "from sklearn.datasets import load_breast_cancer\n",
        "from sklearn.preprocessing import MinMaxScaler\n",
        "from sklearn.datasets import make_blobs\n",
        "import matplotlib.pyplot as plt"
      ],
      "metadata": {
        "id": "dhJ5DiyE0Icr"
      },
      "execution_count": 3,
      "outputs": []
    },
    {
      "cell_type": "code",
      "execution_count": 4,
      "metadata": {
        "colab": {
          "base_uri": "https://localhost:8080/"
        },
        "id": "RLuCPUlGwc3e",
        "outputId": "924f2cf1-553d-4d15-9120-f6f6db48b0a0"
      },
      "outputs": [
        {
          "output_type": "stream",
          "name": "stdout",
          "text": [
            "transformed shape: (426, 30)\n",
            "pre-feature minimum before scaling: \n",
            "[6.981e+00 9.710e+00 4.379e+01 1.435e+02 5.263e-02 1.938e-02 0.000e+00\n",
            " 0.000e+00 1.060e-01 5.024e-02 1.153e-01 3.602e-01 7.570e-01 6.802e+00\n",
            " 1.713e-03 2.252e-03 0.000e+00 0.000e+00 9.539e-03 8.948e-04 7.930e+00\n",
            " 1.202e+01 5.041e+01 1.852e+02 7.117e-02 2.729e-02 0.000e+00 0.000e+00\n",
            " 1.566e-01 5.521e-02]\n",
            "pre-feature maximum before scaling: \n",
            "[2.811e+01 3.928e+01 1.885e+02 2.501e+03 1.634e-01 2.867e-01 4.268e-01\n",
            " 2.012e-01 3.040e-01 9.575e-02 2.873e+00 4.885e+00 2.198e+01 5.422e+02\n",
            " 3.113e-02 1.354e-01 3.960e-01 5.279e-02 6.146e-02 2.984e-02 3.604e+01\n",
            " 4.954e+01 2.512e+02 4.254e+03 2.226e-01 9.379e-01 1.170e+00 2.910e-01\n",
            " 5.774e-01 1.486e-01]\n",
            "pre-feature minimum after scaling:\n",
            "[0. 0. 0. 0. 0. 0. 0. 0. 0. 0. 0. 0. 0. 0. 0. 0. 0. 0. 0. 0. 0. 0. 0. 0.\n",
            " 0. 0. 0. 0. 0. 0.]\n",
            "pre-feature maximum after scaling:\n",
            "[1. 1. 1. 1. 1. 1. 1. 1. 1. 1. 1. 1. 1. 1. 1. 1. 1. 1. 1. 1. 1. 1. 1. 1.\n",
            " 1. 1. 1. 1. 1. 1.]\n",
            "pre-feature minimum after scaling:\n",
            "[ 0.0336031   0.0226581   0.03144219  0.01141039  0.14128374  0.04406704\n",
            "  0.          0.          0.1540404  -0.00615249 -0.00137796  0.00594501\n",
            "  0.00430665  0.00079567  0.03919502  0.0112206   0.          0.\n",
            " -0.03191387  0.00664013  0.02660975  0.05810235  0.02031974  0.00943767\n",
            "  0.1094235   0.02637792  0.          0.         -0.00023764 -0.00182032]\n",
            "pre-feature maximum after scaling:\n",
            "[0.9578778  0.81501522 0.95577362 0.89353128 0.81132075 1.21958701\n",
            " 0.87956888 0.9333996  0.93232323 1.0371347  0.42669616 0.49765736\n",
            " 0.44117231 0.28371044 0.48703131 0.73863671 0.76717172 0.62928585\n",
            " 1.33685792 0.39057253 0.89612238 0.79317697 0.84859804 0.74488793\n",
            " 0.9154725  1.13188961 1.07008547 0.92371134 1.20532319 1.63068851]\n"
          ]
        }
      ],
      "source": [
        "cancer = load_breast_cancer()\n",
        "scaler = MinMaxScaler()\n",
        "\n",
        "xTrain, xTest, yTrain, yTest = train_test_split(cancer.data, cancer.target, random_state=1)\n",
        "scaler.fit(xTrain)\n",
        "\n",
        "\n",
        "xTrainScaled = scaler.transform(xTrain)\n",
        "print(\"transformed shape: {}\".format(xTrain.shape))\n",
        "print(\"pre-feature minimum before scaling: \\n{}\".format(xTrain.min(axis=0)))\n",
        "print(\"pre-feature maximum before scaling: \\n{}\".format(xTrain.max(axis=0)))\n",
        "print(\"pre-feature minimum after scaling:\\n{}\".format(xTrainScaled.min(axis=0)))\n",
        "print(\"pre-feature maximum after scaling:\\n{}\".format(xTrainScaled.max(axis=0)))\n",
        "\n",
        "xTestScaled = scaler.transform(xTest)\n",
        "print(\"pre-feature minimum after scaling:\\n{}\".format(xTestScaled.min(axis=0)))\n",
        "print(\"pre-feature maximum after scaling:\\n{}\".format(xTestScaled.max(axis=0)))"
      ]
    },
    {
      "cell_type": "code",
      "source": [
        "X, _ = make_blobs(n_samples=50, centers=5, random_state=4, cluster_std=2)\n",
        "X_train, X_test = train_test_split(X, random_state=5, test_size=.1)\n",
        "\n",
        "fig, axes = plt.subplots(1, 3, figsize=(13, 4))\n",
        "axes[0].scatter(X_train[:, 0], X_train[:, 1], c=mglearn.cm2(0), label=\"Training set\", s=60)\n",
        "axes[0].scatter(X_test[:, 0], X_test[:, 1], marker='^', c=mglearn.cm2(1), label=\"Test set\", s=60)\n",
        "axes[0].legend(loc='upper left')\n",
        "axes[0].set_title(\"Original Data\")\n",
        "\n",
        "scaler = MinMaxScaler()\n",
        "scaler.fit(X_train)\n",
        "X_train_scaled = scaler.transform(X_train)\n",
        "X_test_scaled = scaler.transform(X_test)\n",
        "\n",
        "axes[1].scatter(X_train_scaled[:, 0], X_train_scaled[:, 1], c=mglearn.cm2(0), label=\"Training set\", s=60)\n",
        "axes[1].scatter(X_test_scaled[:, 0], X_test_scaled[:, 1], marker='^', c=mglearn.cm2(1), label=\"Test set\", s=60)\n",
        "axes[1].set_title(\"Scaled Data\")\n",
        "\n",
        "test_scaler = MinMaxScaler()\n",
        "test_scaler.fit(X_test)\n",
        "X_test_scaled_badly = test_scaler.transform(X_test)\n",
        "\n",
        "axes[2].scatter(X_train_scaled[:, 0], X_train_scaled[:, 1], c=mglearn.cm2(0), label=\"training set\", s=60)\n",
        "axes[2].scatter(X_test_scaled_badly[:, 0], X_test_scaled_badly[:, 1], marker='^', c=mglearn.cm2(1), label=\"test set\", s=60)\n",
        "axes[2].set_title(\"Improperly Scaled Data\")\n",
        "for ax in axes:\n",
        "    ax.set_xlabel(\"Feature 0\")\n",
        "    ax.set_ylabel(\"Feature 1\")"
      ],
      "metadata": {
        "colab": {
          "base_uri": "https://localhost:8080/",
          "height": 399
        },
        "id": "s2mrUvUuzFYA",
        "outputId": "214d2230-36ba-48a8-fa74-7899e3e71eb3"
      },
      "execution_count": 5,
      "outputs": [
        {
          "output_type": "stream",
          "name": "stderr",
          "text": [
            "*c* argument looks like a single numeric RGB or RGBA sequence, which should be avoided as value-mapping will have precedence in case its length matches with *x* & *y*.  Please use the *color* keyword-argument or provide a 2-D array with a single row if you intend to specify the same RGB or RGBA value for all points.\n",
            "*c* argument looks like a single numeric RGB or RGBA sequence, which should be avoided as value-mapping will have precedence in case its length matches with *x* & *y*.  Please use the *color* keyword-argument or provide a 2-D array with a single row if you intend to specify the same RGB or RGBA value for all points.\n",
            "*c* argument looks like a single numeric RGB or RGBA sequence, which should be avoided as value-mapping will have precedence in case its length matches with *x* & *y*.  Please use the *color* keyword-argument or provide a 2-D array with a single row if you intend to specify the same RGB or RGBA value for all points.\n",
            "*c* argument looks like a single numeric RGB or RGBA sequence, which should be avoided as value-mapping will have precedence in case its length matches with *x* & *y*.  Please use the *color* keyword-argument or provide a 2-D array with a single row if you intend to specify the same RGB or RGBA value for all points.\n",
            "*c* argument looks like a single numeric RGB or RGBA sequence, which should be avoided as value-mapping will have precedence in case its length matches with *x* & *y*.  Please use the *color* keyword-argument or provide a 2-D array with a single row if you intend to specify the same RGB or RGBA value for all points.\n",
            "*c* argument looks like a single numeric RGB or RGBA sequence, which should be avoided as value-mapping will have precedence in case its length matches with *x* & *y*.  Please use the *color* keyword-argument or provide a 2-D array with a single row if you intend to specify the same RGB or RGBA value for all points.\n"
          ]
        },
        {
          "output_type": "display_data",
          "data": {
            "image/png": "[encoded data removed]",
            "text/plain": [
              "<Figure size 936x288 with 3 Axes>"
            ]
          },
          "metadata": {
            "needs_background": "light"
          }
        }
      ]
    },
    {
      "cell_type": "markdown",
      "source": [
        "# New Section"
      ],
      "metadata": {
        "id": "bM4oE9dQy8ES"
      }
    }
  ]
}